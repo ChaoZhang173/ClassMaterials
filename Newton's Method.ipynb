{
 "cells": [
  {
   "cell_type": "markdown",
   "id": "6e49727d",
   "metadata": {},
   "source": [
    "# Newton's Method \n",
    "\n",
    "### 1. Introduction:\n",
    "**Newton's Method** is a numerical computation technique introduced by **Isaac Newton** in the 17th century. It is designed to find numerical solutions for nonlinear equations.\n",
    "\n",
    "### 2. Algorithm\n",
    "**Newton's Method** is an iterative technique that repeatedly applies a calculation process until the result meets the desired level of accuracy.\n",
    "#### 2.1. Goal: \n",
    "Given $ f(x) $, find a root $ x^* $ such that $ f(x^*) = 0 $.\n",
    "\n",
    "#### 2.2. Main Idea:\n",
    "Given $ x_k $, the next approximation $ x_{k+1} $ is determined by approximating $ f(x) $ as a linear function at $ x_k $.\n",
    "\n",
    "We have\n",
    "\n",
    "$$\n",
    "\\frac{f(x_k)}{x_k - x_{k+1}} = f'(x_k)\n",
    "$$\n",
    "\n",
    "which gives\n",
    "\n",
    "$$\n",
    "x_{k+1} = x_k - \\frac{f(x_k)}{f'(x_k)}\n",
    "$$\n",
    "\n",
    "#### 2.3. Visualizatoin\n",
    "Newton's method approximates nonlinear function $ f $ near $ x_k $ by **tangent line** at $ f(x_k) $.\n",
    "<div align=\"center\">\n",
    "    <img src=\"NewtonM.png\" alt=\"Newton's Method\" style=\"width: 50%;\"/>\n",
    "</div>\n",
    "\n",
    "\n",
    "#### 2.4. Another Explanation:\n",
    "\n",
    "We can derive Newton's Method from the **Truncated Taylor Series**:\n",
    "\n",
    "$$\n",
    "f(x+h) \\approx f(x) + f'(x)h\n",
    "$$\n",
    "\n",
    "This is a linear approximation of the function $ f $ near $ x $, where $ h $ is a small step. In other words, we replace the nonlinear function $ f $ with this linear approximation.\n",
    "\n",
    "To find the root, we set this linear approximation to zero (assume $x + h$ is the root), solving for $ h $:\n",
    "\n",
    "$$\n",
    "h = -\\frac{f(x)}{f'(x)}\n",
    "$$\n",
    "\n",
    "Thus, the zeros of the linear approximation are not the same as the original function's zeros. Therefore, we repeat this process iteratively, which leads us to **Newton's Method**:\n",
    "\n",
    "$$\n",
    "x_{k+1} = x_k - \\frac{f(x_k)}{f'(x_k)}\n",
    "$$\n",
    "\n",
    "### 3. Convergence \n",
    "\n",
    "Newton's method transforms nonlinear equation $ f(x) = 0 $ into fixed-point problem $ x = g(x) $, where \n",
    "\n",
    "$$\n",
    "g(x) = x - \\frac{f(x)}{f'(x)}\n",
    "$$\n",
    "\n",
    "and hence \n",
    "\n",
    "$$\n",
    "g'(x) = \\frac{f(x)f''(x)}{(f'(x))^2}\n",
    "$$\n",
    "\n",
    "If $x^*$ is a simple root (i.e., $ f(x^*)=0 $ and $f'(x^*) \\neq 0 $), then $ g(x^*) = x^* $ and $ g'(x^*) =0 $.\n",
    "\n",
    "Define the error:\n",
    "\n",
    "$$\n",
    "e_{k+1} = |x_{k+1} - x^*| = |g(x_k) - g(x^*)|\n",
    "$$\n",
    "\n",
    "We now apply the **Taylor expansion** for $ g(x_k) $ around $ x^* $:\n",
    "\n",
    "$$\n",
    "g(x_k) = g(x^*) + (x_k - x^*) g'(x^*) + \\frac{1}{2}(x_k - x^*)^2 g''(\\xi), \\quad \\xi \\in (x_k, x^*)\n",
    "$$\n",
    "\n",
    "Since $ g(x^*) = x^* $ and $ g'(x^*) = 0 $, this simplifies to:\n",
    "\n",
    "$$\n",
    "e_{k+1} = \\frac{1}{2}(x_k - x^*)^2 |g''(\\xi)| = \\frac{1}{2} e_k^2 |g''(\\xi)|\n",
    "$$\n",
    "\n",
    "Let $ M = \\frac{1}{2} \\max_x |g''(\\xi)| $, we then have:\n",
    "\n",
    "$$\n",
    "e_{k+1} \\leq M e_k^2\n",
    "$$\n",
    "\n",
    "This is called **quadratic convergence**.\n",
    "\n",
    "#### 3.1. Theorem:\n",
    "If $ e_{k+1} \\leq M e_k^2 $, then $ \\lim_{k \\to \\infty} e_k = 0 $ if $ e_0 $ is sufficiently small. (This means $ M $ can be large, but it does not affect the convergence!)\n",
    "\n",
    "**Note:** This implies the iterations must start close enough to root (initial guess $x_0$ close to $x^*$) to converge.\n",
    "\n",
    "#### 3.2. Proof for the Convergence:\n",
    "We have:\n",
    "\n",
    "$$\n",
    "e_1 \\leq (M e_0) e_0\n",
    "$$\n",
    "\n",
    "If $ e_0 $ is small enough such that $ (M e_0) < 1 $, then $ e_1 < e_0 $. This implies:\n",
    "\n",
    "$$\n",
    "(M e_1) < M e_0 < 1\n",
    "$$\n",
    "\n",
    "So:\n",
    "\n",
    "$$\n",
    "e_2 \\leq (M e_1) e_1 < e_1\n",
    "$$\n",
    "\n",
    "By induction, we conclude that $ e_{k+1} < e_k $ for all $ k $, i.e., the error strictly decreases after each iteration. Thus, the method converges.\n",
    "\n",
    "$$\n",
    "\\boxed{\\text{Convergence.}}\n",
    "$$\n",
    "\n",
    "#### 3.3. Multiplicity (option)\n",
    "\n",
    "For multiple root (for example, $ f(x) = x^2 $), convergence rate of Newton's method is only **linear**. **Why?**\n",
    "\n",
    "### Important Note ###\n",
    "\n",
    "1. The initial guess $x_0$ must be close enough to the root $x^*$.\n",
    "2. Newton's method will only give you one root (if converges).\n",
    "3. For multiple root, the convergence rate is only linear. "
   ]
  },
  {
   "cell_type": "markdown",
   "id": "6f127007",
   "metadata": {},
   "source": [
    "# Example: Newton's Method for $ f(x) = x^2 - 4sinx $\n",
    "\n",
    "To find the root of $ f(x) = x^2 - 4sinx $ using Newton's method, we need to follow these steps:\n",
    "\n",
    "1. Define the function $ f(x) $ and its derivative $ f'(x) $.\n",
    "2. Choose an initial guess $ x_0 $ and stopping criteria.\n",
    "3. Perform the iteration $ x_{k+1} = x_k - \\frac{f(x_k)}{f'(x_k)} $ until the result converges.\n",
    "\n",
    "### Step 1: Define the function $ f(x) $ and its derivative\n",
    "\n",
    "Let's first define the function and its derivative in Python."
   ]
  },
  {
   "cell_type": "code",
   "execution_count": 1,
   "id": "ac47c395",
   "metadata": {},
   "outputs": [
    {
     "name": "stdout",
     "output_type": "stream",
     "text": [
      "Defaulting to user installation because normal site-packages is not writeable\n",
      "Requirement already satisfied: numpy in /home/ubuntu/.local/lib/python3.9/site-packages (2.0.2)\n"
     ]
    }
   ],
   "source": [
    "!pip install numpy\n",
    "\n",
    "import sys\n",
    "sys.path.append('/home/ubuntu/.local/lib/python3.9/site-packages')\n",
    "\n",
    "import numpy as np"
   ]
  },
  {
   "cell_type": "code",
   "execution_count": 2,
   "id": "10e804bd",
   "metadata": {},
   "outputs": [
    {
     "name": "stdout",
     "output_type": "stream",
     "text": [
      "f(x) at x = 3 : 8.43551996776053\n",
      "f'(x) at x = 3 : 9.95996998640178\n"
     ]
    }
   ],
   "source": [
    "# Define the function f(x)\n",
    "def f(x):\n",
    "    return x*x - 4*np.sin(x)\n",
    "\n",
    "# Define the derivative f'(x)\n",
    "def f_prime(x):\n",
    "    return 2*x - 4*np.cos(x)\n",
    "\n",
    "# Test the function and its derivative at a sample point, e.g., x = 3\n",
    "x_test = 3\n",
    "print(\"f(x) at x =\", x_test, \":\", f(x_test))\n",
    "print(\"f'(x) at x =\", x_test, \":\", f_prime(x_test))"
   ]
  },
  {
   "cell_type": "markdown",
   "id": "b5b142d8",
   "metadata": {},
   "source": [
    "### Step 2: Choose an initial guess\n",
    "\n",
    "Now, let's choose an initial guess $ x_0 = 3 $, and we will calculate the first few iterations of Newton's Method.\n",
    "\n",
    "We will iteratively apply the formula:\n",
    "\n",
    "$$\n",
    "x_{k+1} = x_k - \\frac{f(x_k)}{f'(x_k)}\n",
    "$$\n"
   ]
  },
  {
   "cell_type": "code",
   "execution_count": 3,
   "id": "19c14bc5",
   "metadata": {},
   "outputs": [],
   "source": [
    "# Initial guess\n",
    "x0 = 3"
   ]
  },
  {
   "cell_type": "markdown",
   "id": "22cfe3ca",
   "metadata": {},
   "source": [
    "### Step 3: Perform the iteration\n",
    "\n",
    "Next, we will implement Newton's Method in Python. We will iterate the method and compute \\( x_{k+1} \\) until the result converges (i.e., the difference between two successive iterations is smaller than a tolerance).\n",
    "\n",
    "Here is the Python code for Newton's Method.\n"
   ]
  },
  {
   "cell_type": "code",
   "execution_count": 4,
   "id": "12c18db0",
   "metadata": {
    "scrolled": true
   },
   "outputs": [
    {
     "name": "stdout",
     "output_type": "stream",
     "text": [
      "Iteration 1: x = 2.1530576920133857\n",
      "Iteration 2: x = 1.9540386420058038\n",
      "Iteration 3: x = 1.9339715327520701\n",
      "Iteration 4: x = 1.933753788557627\n",
      "Iteration 5: x = 1.9337537628270216\n",
      "Converged to 1.9337537628270216 after 5 iterations.\n"
     ]
    }
   ],
   "source": [
    "# Newton's Method implementation\n",
    "def newtons_method(f, f_prime, x0, tol=1e-6, max_iter=100):\n",
    "    x = x0\n",
    "    for i in range(max_iter):\n",
    "        x_new = x - f(x) / f_prime(x)\n",
    "        print(f\"Iteration {i+1}: x = {x_new}\")\n",
    "        # Check if the result is within the desired tolerance\n",
    "        if abs(x_new - x) < tol:\n",
    "            print(\"Converged to\", x_new, \"after\", i+1, \"iterations.\")\n",
    "            return x_new\n",
    "        x = x_new\n",
    "    print(\"Did not converge after\", max_iter, \"iterations.\")\n",
    "    return x\n",
    "\n",
    "# Run Newton's Method with the initial guess\n",
    "root = newtons_method(f, f_prime, x0)"
   ]
  },
  {
   "cell_type": "markdown",
   "id": "de0db896",
   "metadata": {},
   "source": [
    "### Output and Interpretation\n",
    "\n",
    "We have now executed Newton's Method to find the root of $ f(x) = x^2 - 4sinx $. The output shows the value of $ x $ at each iteration. The iteration continues until the difference between successive values of \\( x \\) is smaller than the specified tolerance (here, $ 1e-6 $).\n",
    "\n",
    "- **Initial guess**: $ x_0 = 3 $.\n",
    "- **Iterations**: Each iteration displays the current approximation of the root.\n",
    "- **Convergence**: The method stops when the difference between two consecutive $ x $ values is smaller than the tolerance.\n",
    "\n",
    "You can modify the initial guess $ x_0 $ and the tolerance to see how the method behaves with different settings."
   ]
  },
  {
   "cell_type": "code",
   "execution_count": 5,
   "id": "a766ef76",
   "metadata": {},
   "outputs": [
    {
     "name": "stdout",
     "output_type": "stream",
     "text": [
      "Iteration 1: x = 4.379051590650737\n",
      "Iteration 2: x = 2.0987148966762077\n",
      "Iteration 3: x = 1.94592720429063\n",
      "Iteration 4: x = 1.9338329807380028\n",
      "Iteration 5: x = 1.9337537662324846\n",
      "Iteration 6: x = 1.9337537628270212\n",
      "Converged to 1.9337537628270212 after 6 iterations.\n",
      "Iteration 1: x = 2.1530576920133857\n",
      "Iteration 2: x = 1.9540386420058038\n",
      "Iteration 3: x = 1.9339715327520701\n",
      "Iteration 4: x = 1.933753788557627\n",
      "Iteration 5: x = 1.9337537628270216\n",
      "Iteration 6: x = 1.9337537628270212\n",
      "Converged to 1.9337537628270212 after 6 iterations.\n"
     ]
    }
   ],
   "source": [
    "# Try with a different initial guess\n",
    "x0_new = 8\n",
    "root_new = newtons_method(f, f_prime, x0_new)\n",
    "\n",
    "# Try adjusting the tolerance\n",
    "tol_new = 1e-8\n",
    "root_new_tol = newtons_method(f, f_prime, x0, tol=tol_new)"
   ]
  },
  {
   "cell_type": "code",
   "execution_count": null,
   "id": "a697c1af",
   "metadata": {},
   "outputs": [],
   "source": []
  }
 ],
 "metadata": {
  "kernelspec": {
   "display_name": "Python 3 (ipykernel)",
   "language": "python",
   "name": "python3"
  },
  "language_info": {
   "codemirror_mode": {
    "name": "ipython",
    "version": 3
   },
   "file_extension": ".py",
   "mimetype": "text/x-python",
   "name": "python",
   "nbconvert_exporter": "python",
   "pygments_lexer": "ipython3",
   "version": "3.9.12"
  },
  "latex_envs": {
   "LaTeX_envs_menu_present": true,
   "autoclose": false,
   "autocomplete": true,
   "bibliofile": "biblio.bib",
   "cite_by": "apalike",
   "current_citInitial": 1,
   "eqLabelWithNumbers": true,
   "eqNumInitial": 1,
   "hotkeys": {
    "equation": "Ctrl-E",
    "itemize": "Ctrl-I"
   },
   "labels_anchors": false,
   "latex_user_defs": false,
   "report_style_numbering": false,
   "user_envs_cfg": false
  }
 },
 "nbformat": 4,
 "nbformat_minor": 5
}
